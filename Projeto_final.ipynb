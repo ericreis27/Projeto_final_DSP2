{
 "cells": [
  {
   "cell_type": "markdown",
   "metadata": {},
   "source": [
    "# PROJETO FINAL DE PROCESSAMENTO DIGITAL DE SINAIS II   <br>\n",
    "**CURSO DE ENGENHARIA ELETRÔNICA**                      <br>\n",
    "**INSTITUTO FEDERAL DE SANTA CATARINA**                 <br>\n",
    "**PROFESSOR: FERNANDO PACHECO**                         <br>\n",
    "**ALUNO: ERIC MONTEIRO DOS REIS**                       <br><br>"
   ]
  },
  {
   "cell_type": "code",
   "execution_count": 1,
   "metadata": {
    "tags": []
   },
   "outputs": [],
   "source": [
    "import os\n",
    "import math\n",
    "import cv2\n",
    "import numpy as np\n",
    "import matplotlib.pyplot as plt\n",
    "import imutils\n",
    "import glob\n",
    "from pdf2image import convert_from_path\n",
    "from PIL import Image\n"
   ]
  },
  {
   "cell_type": "code",
   "execution_count": 2,
   "metadata": {},
   "outputs": [],
   "source": [
    "#FUNCTION TO HELP VISUALIZE AND DEBUG THE PROJECT, TO ADJUST DESIRED SIZE, MODIFY FIGSIZE\n",
    "def display_img(img):\n",
    "    fig = plt.figure(figsize=(15,15))\n",
    "    ax = fig.add_subplot(111)\n",
    "    ax.imshow(img,cmap='gray')"
   ]
  },
  {
   "cell_type": "code",
   "execution_count": 3,
   "metadata": {},
   "outputs": [],
   "source": [
    "#DETECTS THE LINES ON THE IMAGE USING THE PROBABILISTIC HOUGH TRANSFORM\n",
    "def hough_lines(img):\n",
    "\n",
    "\n",
    "    dst = cv2.Canny(img, 50, 200, None, 3)  #Edge Detection on the image   \n",
    "    #display_img(dst) #test purposes\n",
    "    linesP = cv2.HoughLinesP(dst, 1, np.pi / 180, 50, None, 300, 100)\n",
    "    return linesP"
   ]
  },
  {
   "cell_type": "code",
   "execution_count": 4,
   "metadata": {},
   "outputs": [],
   "source": [
    "#CALCULATES THE ANGLE OF ROTATION \n",
    "\n",
    "def calculate_angle(lines):\n",
    "    angles = [] #creating a list to save the angles\n",
    "    for lines in lines:\n",
    "        for x1,y1,x2,y2 in lines:\n",
    "            angle_rad = math.atan2(y2-y1, x2 - x1) #finds the angle in radians on the current line\n",
    "            angle_deg = math.degrees(angle_rad) #converts to degrees\n",
    "            angles.append(angle_deg) #adds the current angle to the list of angles created\n",
    "    \n",
    "    angles = [angle for angle in angles if np.abs(angle) < 10] \n",
    "    median_angle = np.median(angles) \n",
    "\n",
    "    if (45<median_angle<90):\n",
    "        final_angle = 90 - median_angle\n",
    "    elif (-90<median_angle<-45):\n",
    "        final_angle = -90 - median_angle\n",
    "    else:\n",
    "        final_angle = - (median_angle)\n",
    "\n",
    "    print(\"Tilt angle: \",final_angle)\n",
    "    return final_angle"
   ]
  },
  {
   "cell_type": "markdown",
   "metadata": {},
   "source": [
    "Para eliminarmos os efeitos da rotação na imagem precisamos aplicar um *frame* para corrigirmos a imagem e as partes em preto não causarem a sensação de a imagem estar rotacionada, mesmo ela possuindo uma correção no ângulo. Na imagem abaixo demonstramos visualmente o processo aplicado para obtermos a máscara que irá ser aplicada na imagem no eixo y (altura)."
   ]
  },
  {
   "cell_type": "markdown",
   "metadata": {},
   "source": [
    "![<caption>](explicacao_do_frame.png)"
   ]
  },
  {
   "cell_type": "markdown",
   "metadata": {},
   "source": [
    "A imagem deslocada possui um aumento de pixels no eixo da altura e comprimento (2° passo), porém os espaços fora do conteúdo rotacionado ficam pretos. Para eliminarmos isso inicialmente fazemos um *crop* na imagem, utilizando a metade da diferença de tamanho das dimensões da imagem rotacionada subtraídas do tamanho da imagem original (3°passo). Utilizando trigonometria podemos calcular o valor desejado de pixels para aplicarmos a máscara e eliminarmos o preto desejado dentro da página rotacionada.\n",
    "\n",
    "O processo completo descrito acima é aplicado na função *frame_correction()* "
   ]
  },
  {
   "cell_type": "code",
   "execution_count": 5,
   "metadata": {},
   "outputs": [],
   "source": [
    "#THIS FUNCTION USES THE ANGLE THAT THE IMAGE WAS ROTATED AND CHOSES A FRAME TO TAKE AWAY THE EFFECTS OF THE ROTATION ON THE IMAGE\n",
    "def frame_correction(img_pre,img,angle): \n",
    "    if(angle < 0):\n",
    "        angle = -angle        #the sin function used later needs a positive angle to work properly  \n",
    "    angle = np.radians(angle) \n",
    "    #print(img_pre.shape) #\n",
    "    #print(img.shape)\n",
    "    orig_height, orig_width = img_pre.shape[:2] \n",
    "    rot_height, rot_width = img.shape[:2] \n",
    "    \n",
    "    half_delta_height = int((rot_height - orig_height)/2)\n",
    "    half_delta_width = int((rot_width - orig_width)/2)\n",
    "\n",
    "    mask_height = int(np.sin(angle)*orig_width - half_delta_height)\n",
    "    mask_width = int(np.sin(angle)*orig_height - half_delta_width)\n",
    "    \n",
    "\n",
    "#BUILDING THE FRAME TO ELIMINATE THE ROTATION EFFECT\n",
    "#cropped = img[start_row:end_row, start_col:end_col]\n",
    "    new_img = img[half_delta_height:(orig_height+half_delta_height),half_delta_width:(orig_width+half_delta_width)]\n",
    "    \n",
    "    new_img[0:mask_height,0:orig_width] = 255\n",
    "    new_img[orig_height-mask_height:orig_height,0:orig_width] = 255\n",
    "    new_img[0:orig_height,0:mask_width] = 255\n",
    "    new_img[0:orig_height,orig_width-mask_width:orig_width] = 255\n",
    "    return(new_img)"
   ]
  },
  {
   "cell_type": "code",
   "execution_count": 6,
   "metadata": {},
   "outputs": [],
   "source": [
    "#CREATING FOLDERS FOR THE PROCESSES IMAGES AND THE PDF OUTPUT\n",
    "path = input(\"Please insert the folder where the pdf is located\") #OBS: IF THERES A SPECIAL CHARACTER IN THE PATH INPUTED, IMPORTING THE IMAGES LATER WILL NOT BE POSSIBLE\n",
    "new_folder1 = \"pdf_output\"\n",
    "new_folder2 = \"pdf_images\"\n",
    "os.chdir(path)\n",
    "\n",
    "try:\n",
    "    if not os.path.exists(new_folder1 and new_folder2):\n",
    "        os.makedirs(new_folder1)\n",
    "        os.makedirs(new_folder2)\n",
    "except OSError:\n",
    "    print(\"Folder already exists\")\n",
    "\n",
    "# INSERT BELOW INSIDE THE FUNCTION THE NAME OF THE PDF WITH THE EXTENSION ALSO, EXAMPLE: \"N3_bunpou.pdf\"\n",
    "book_pages = convert_from_path('N3_bunpou.pdf',500)"
   ]
  },
  {
   "cell_type": "markdown",
   "metadata": {},
   "source": [
    "A função de importar o pdf da biblioteca \"pdf2image\" só funcionou inserindo diretamente o nome na função, utilizando variáveis ela apresentava erro, portanto ficou definido que o programa irá criar uma pasta de output para salvar o pdf e também uma pasta para salvar as imagens tratadas no local onde o pdf se encontra. Importante observar também que a função não funciona bem lendo PDF's muito pesados, podendo inclusive não concluir o carregamento do pdf porque a função acaba consumindo memória demais do computador."
   ]
  },
  {
   "cell_type": "code",
   "execution_count": 7,
   "metadata": {},
   "outputs": [],
   "source": [
    "#converting the pdf to images and enumerating the pages on the format \"page ...\"\n",
    "os.chdir(path + \"/\" + new_folder2)\n",
    "for i in range(len(book_pages)):\n",
    "    book_pages[i].save('page' + str(i).zfill(2) + '.png') #using str.zfill() so our numbers start 00 instead of 0, to make sorting out the list of images easier later on the code "
   ]
  },
  {
   "cell_type": "code",
   "execution_count": 8,
   "metadata": {},
   "outputs": [],
   "source": [
    "#READING THE PAGES ON THE PATH SPECIFIED WHERE THEY ARE SAVED AND SAVING ON A LIST\n",
    "#OBS: IF THERES A SPECIAL CHARACTER IN THE PATH INPUTED THE GLOB FUNCTION DOESN'T WORK AS INTENDED\n",
    "\n",
    "page_search = sorted(glob.glob(\"*.png\")) #searches for the png files\n",
    "pages_list = []\n",
    "\n",
    "for file in page_search:\n",
    "    img = cv2.imread(file)\n",
    "    img = cv2.cvtColor(img,cv2.COLOR_BGR2GRAY)\n",
    "    pages_list.append(img)"
   ]
  },
  {
   "cell_type": "code",
   "execution_count": 9,
   "metadata": {},
   "outputs": [
    {
     "name": "stdout",
     "output_type": "stream",
     "text": [
      "Tilt angle:  -0.0\n",
      "Tilt angle:  -0.0\n",
      "Tilt angle:  -1.0056495363047109\n",
      "Tilt angle:  0.9970146614618153\n",
      "Tilt angle:  -0.9992436702572906\n",
      "Tilt angle:  1.9825238610843805\n",
      "Tilt angle:  -1.9810703917474939\n",
      "Tilt angle:  1.9866782381783066\n",
      "Tilt angle:  -1.980320808902372\n",
      "Tilt angle:  1.9978798564766747\n",
      "Tilt angle:  -1.9820760927623546\n",
      "Tilt angle:  1.8755140525124108\n",
      "Tilt angle:  -0.9999274764562817\n",
      "Tilt angle:  1.0751297105970008\n",
      "Tilt angle:  -1.9690765429684238\n",
      "Tilt angle:  1.039396156451588\n",
      "Tilt angle:  -1.8595993387455583\n",
      "Tilt angle:  0.9554540036369561\n",
      "Tilt angle:  -1.0038716485184662\n",
      "Tilt angle:  0.9977936825860246\n"
     ]
    }
   ],
   "source": [
    "#LOOP RESPONSIBLE FOR APPLYING THE HOUGH PROBABILISTIC TRANSFORM AND CALCULATING THE ROTATION AND SAVING IT ON THE OUTPUT LIST\n",
    "\n",
    "output_list = []\n",
    "for i,page in enumerate(pages_list):\n",
    "    linesP = hough_lines(page)\n",
    "    tilt_angle = calculate_angle(linesP)\n",
    "    final = imutils.rotate_bound(page,tilt_angle)\n",
    "    #display_img(final) #debugging purposes\n",
    "    result = frame_correction(page,final,tilt_angle)\n",
    "    thresh = cv2.threshold(result, 0, 255, cv2.THRESH_BINARY | cv2.THRESH_OTSU)[1]\n",
    "    #cv2.imwrite(f\"p{i}.png\",thresh) #debugging purposes\n",
    "    output_list.append(thresh)"
   ]
  },
  {
   "cell_type": "code",
   "execution_count": 10,
   "metadata": {},
   "outputs": [],
   "source": [
    "#INSERTING THE PROCESSED IMAGES BACK IN A PDF ON THE OUTPUT FOLDER\n",
    "\n",
    "os.chdir(path + \"/\" + new_folder1) \n",
    "pdf_path = os.getcwd() + \"/\" + \"Result.pdf\"\n",
    "\n",
    "#necessary to convert the images to the Pillow library image format so we are able to export the pdf\n",
    "for i in range(len(output_list)):\n",
    "    output_list[i] = Image.fromarray(output_list[i])\n",
    "    \n",
    "output_list[0].save(pdf_path, resolution=400.0,save_all=True, append_images=output_list[1:])"
   ]
  }
 ],
 "metadata": {
  "kernelspec": {
   "display_name": "Python 3 (ipykernel)",
   "language": "python",
   "name": "python3"
  },
  "language_info": {
   "codemirror_mode": {
    "name": "ipython",
    "version": 3
   },
   "file_extension": ".py",
   "mimetype": "text/x-python",
   "name": "python",
   "nbconvert_exporter": "python",
   "pygments_lexer": "ipython3",
   "version": "3.9.7"
  },
  "vscode": {
   "interpreter": {
    "hash": "ddb1d52129a7992740315d1ae44849c7f91e5407b21c99fb2467276326dcaff9"
   }
  }
 },
 "nbformat": 4,
 "nbformat_minor": 4
}
